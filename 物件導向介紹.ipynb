{
 "cells": [
  {
   "cell_type": "markdown",
   "metadata": {},
   "source": [
    "範例: 狗有四條腿 有顏色 有名字"
   ]
  },
  {
   "cell_type": "code",
   "execution_count": null,
   "metadata": {},
   "outputs": [],
   "source": [
    "class Dog:\n",
    "    legs = 4\n",
    "    color = 'white'\n",
    "    name = ''\n",
    "    "
   ]
  },
  {
   "cell_type": "markdown",
   "metadata": {},
   "source": [
    "物件導向會把重複的東西變成類別(函式和變數)\n",
    "\n",
    "對狗做出定義和宣告"
   ]
  },
  {
   "cell_type": "code",
   "execution_count": 5,
   "metadata": {},
   "outputs": [
    {
     "name": "stdout",
     "output_type": "stream",
     "text": [
      "<__main__.Dog object at 0x000001F3DFBE7320>\n",
      "<__main__.Dog object at 0x000001F3DE7871D0>\n",
      "4\n",
      "3\n",
      "blacky dog is running\n",
      "None\n",
      "poor white dog is running\n",
      "None\n"
     ]
    }
   ],
   "source": [
    "class Dog:\n",
    "    # 預設是空的 等實際創建物件的時候\n",
    "    legs = None\n",
    "    color = None\n",
    "    name = None\n",
    "    \n",
    "    # python物件的第一個參數必須是self的物件本身\n",
    "    def bow(self):\n",
    "        print('bow')\n",
    "    \n",
    "    def run(self):\n",
    "        print('{} dog is running'.format(self.name))\n",
    "    \n",
    "    # 只要有創建物件 就會有建構值 必須要傳入legs,color,name的參數\n",
    "    def __init__(self,legs,color,name):\n",
    "        self.legs = legs\n",
    "        self.color = color\n",
    "        self.name = name\n",
    "        print(self)\n",
    "\n",
    "# 建構值(constuct)\n",
    "\n",
    "\n",
    "# 物件與物件之間彼此是獨立的\n",
    "# 小黑有4條腿\n",
    "black = Dog(4,'black','blacky')\n",
    "# 可憐的小白只有3條腿\n",
    "white = Dog(3,'white','poor white')\n",
    "\n",
    "# print(black.bow())\n",
    "\n",
    "print(black.legs)\n",
    "# 小黑突然變成七條腿\n",
    "black.legs = 7\n",
    "\n",
    "print(white.legs)\n",
    "\n",
    "print(black.run())\n",
    "print(white.run())"
   ]
  }
 ],
 "metadata": {
  "kernelspec": {
   "display_name": "Python 3",
   "language": "python",
   "name": "python3"
  },
  "language_info": {
   "codemirror_mode": {
    "name": "ipython",
    "version": 3
   },
   "file_extension": ".py",
   "mimetype": "text/x-python",
   "name": "python",
   "nbconvert_exporter": "python",
   "pygments_lexer": "ipython3",
   "version": "3.12.1"
  }
 },
 "nbformat": 4,
 "nbformat_minor": 2
}
