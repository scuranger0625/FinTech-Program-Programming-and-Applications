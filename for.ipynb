{
 "cells": [
  {
   "cell_type": "markdown",
   "metadata": {},
   "source": [
    "請撰寫一程式，印出1到100，每一次遞增1。\n",
    "\n",
    "輸入範例: \n",
    "\n",
    "輸出範例: \n",
    "1\n",
    "2\n",
    "3\n",
    "4\n",
    "\n",
    "5    (已下省略，請從6續印)\n",
    "\n",
    ".\n",
    "\n",
    ".\n",
    "\n",
    ".\n",
    "100"
   ]
  },
  {
   "cell_type": "code",
   "execution_count": 1,
   "metadata": {},
   "outputs": [
    {
     "name": "stdout",
     "output_type": "stream",
     "text": [
      "1\n",
      "2\n",
      "3\n",
      "4\n",
      "5\n",
      "6\n",
      "7\n",
      "8\n",
      "9\n",
      "10\n",
      "11\n",
      "12\n",
      "13\n",
      "14\n",
      "15\n",
      "16\n",
      "17\n",
      "18\n",
      "19\n",
      "20\n",
      "21\n",
      "22\n",
      "23\n",
      "24\n",
      "25\n",
      "26\n",
      "27\n",
      "28\n",
      "29\n",
      "30\n",
      "31\n",
      "32\n",
      "33\n",
      "34\n",
      "35\n",
      "36\n",
      "37\n",
      "38\n",
      "39\n",
      "40\n",
      "41\n",
      "42\n",
      "43\n",
      "44\n",
      "45\n",
      "46\n",
      "47\n",
      "48\n",
      "49\n",
      "50\n",
      "51\n",
      "52\n",
      "53\n",
      "54\n",
      "55\n",
      "56\n",
      "57\n",
      "58\n",
      "59\n",
      "60\n",
      "61\n",
      "62\n",
      "63\n",
      "64\n",
      "65\n",
      "66\n",
      "67\n",
      "68\n",
      "69\n",
      "70\n",
      "71\n",
      "72\n",
      "73\n",
      "74\n",
      "75\n",
      "76\n",
      "77\n",
      "78\n",
      "79\n",
      "80\n",
      "81\n",
      "82\n",
      "83\n",
      "84\n",
      "85\n",
      "86\n",
      "87\n",
      "88\n",
      "89\n",
      "90\n",
      "91\n",
      "92\n",
      "93\n",
      "94\n",
      "95\n",
      "96\n",
      "97\n",
      "98\n",
      "99\n",
      "100\n"
     ]
    }
   ],
   "source": [
    "'''\n",
    "18_1.for-1印到100(20.0)\n",
    "'''\n",
    "# range(開始值,結束值(不算),間距)\n",
    "for i in range(1,101):\n",
    "    print(i)"
   ]
  },
  {
   "cell_type": "markdown",
   "metadata": {},
   "source": [
    "計算整數 1 到 100，公差為 1 的累加和。 即 1+2+3+...+100 的和。\n",
    "\n",
    "輸入範例: \n",
    "\n",
    "輸出範例: \n",
    "5050"
   ]
  },
  {
   "cell_type": "code",
   "execution_count": 2,
   "metadata": {},
   "outputs": [
    {
     "name": "stdout",
     "output_type": "stream",
     "text": [
      "5050\n"
     ]
    }
   ],
   "source": [
    "'''\n",
    "18_2.for-1到100和(20.0)\n",
    "'''\n",
    "\n",
    "def method():\n",
    "    # 歸零計數器\n",
    "    total = 0\n",
    "    \n",
    "    for i in range(1,101):\n",
    "        # 將當前數字加進total\n",
    "        total += i \n",
    "    \n",
    "    print(total)\n",
    "        \n",
    "method()\n",
    "    "
   ]
  },
  {
   "cell_type": "markdown",
   "metadata": {},
   "source": [
    "計算出整數 1 到 99，公差為 2 的累加值。 即 1+3+5+...+99 之和。\n",
    "\n",
    "輸入範例: \n",
    "\n",
    "輸出範例: \n",
    "2500"
   ]
  },
  {
   "cell_type": "code",
   "execution_count": 3,
   "metadata": {},
   "outputs": [
    {
     "name": "stdout",
     "output_type": "stream",
     "text": [
      "2500\n"
     ]
    }
   ],
   "source": [
    "'''\n",
    "18_3.for-奇數和(10.0)\n",
    "'''\n",
    "def method():\n",
    "    # 歸零計數器\n",
    "    total = 0\n",
    "    \n",
    "    for i in range(1,100,2):\n",
    "        # 將當前數字加進total\n",
    "        total += i \n",
    "    \n",
    "    print(total)\n",
    "        \n",
    "method()"
   ]
  },
  {
   "cell_type": "markdown",
   "metadata": {},
   "source": [
    "計算整數 2 到 100，公差為 2，的累加值。 即 2+4+6+...+100 之和。\n",
    "\n",
    "輸入範例: \n",
    "\n",
    "輸出範例: \n",
    "2550"
   ]
  },
  {
   "cell_type": "code",
   "execution_count": 4,
   "metadata": {},
   "outputs": [
    {
     "name": "stdout",
     "output_type": "stream",
     "text": [
      "2550\n"
     ]
    }
   ],
   "source": [
    "'''\n",
    "18_4.for-偶數和(10.0)\n",
    "'''\n",
    "def method():\n",
    "    # 歸零計數器\n",
    "    total = 0\n",
    "    \n",
    "    for i in range(2,101,2):\n",
    "        # 將當前數字加進total\n",
    "        total += i \n",
    "    \n",
    "    print(total)\n",
    "        \n",
    "method()"
   ]
  },
  {
   "cell_type": "markdown",
   "metadata": {},
   "source": [
    "給一個整數N,從1開始每一次遞增1，計算1到N的和。\n",
    "\n",
    "輸入範例: \n",
    "99\n",
    "\n",
    "輸出範例: \n",
    "4950"
   ]
  },
  {
   "cell_type": "code",
   "execution_count": null,
   "metadata": {},
   "outputs": [],
   "source": [
    "'''\n",
    "18_5.for-1到N之和(10.0)\n",
    "'''\n",
    "\n",
    "\n",
    "def method():\n",
    "    N = int(input())\n",
    "    \n",
    "    # 歸零計數器\n",
    "    total = 0\n",
    "    # N+1 才會取到N\n",
    "    for i in range(1,N+1):\n",
    "        # 將當前數字加進total\n",
    "        total += i \n",
    "    \n",
    "    print(total)\n",
    "        \n",
    "method()"
   ]
  },
  {
   "cell_type": "markdown",
   "metadata": {},
   "source": [
    "由使用者輸入整數 n1 與 n2，n1 必須小於 n2，公差為 1，計算其累加和。\n",
    "\n",
    "即 n1+(n1+1)+(n1+1+1)+...+n2 之和。\n",
    "\n",
    "輸入範例: \n",
    "1\n",
    "99\n",
    "\n",
    "輸出範例: \n",
    "4950"
   ]
  },
  {
   "cell_type": "code",
   "execution_count": null,
   "metadata": {},
   "outputs": [],
   "source": [
    "'''\n",
    "18_6.for-首末項(10.0)\n",
    "'''\n",
    "\n",
    "def calculate_sum():\n",
    "    n1 = int(input())\n",
    "    n2 = int(input())\n",
    "    \n",
    "    if n1 >= n2 :\n",
    "        return\n",
    "    \n",
    "    total = (n2 - n1 + 1) * (n1 + n2) // 2\n",
    "    print(total)\n",
    "    \n",
    "\n",
    "\n",
    "calculate_sum()"
   ]
  },
  {
   "cell_type": "markdown",
   "metadata": {},
   "source": [
    "由使用者輸入 3 個整數，分別為首項、末項與公差，計算等差級數的和。\n",
    "\n",
    "輸入範例: \n",
    "2\n",
    "100\n",
    "30\n",
    "\n",
    "輸出範例: \n",
    "188"
   ]
  },
  {
   "cell_type": "code",
   "execution_count": null,
   "metadata": {},
   "outputs": [],
   "source": [
    "'''\n",
    "18_7.for-等差級數(10.0)\n",
    "'''\n",
    "\n",
    "def calculate_arithmetic_sum():\n",
    "    first_term =int(input())\n",
    "    last_term =int(input())\n",
    "    # 公差\n",
    "    common_difference =int(input())\n",
    "    \n",
    "    total = 0 # 歸零計數器\n",
    "    \n",
    "    for term in range(first_term,last_term+1,common_difference):\n",
    "        total += term\n",
    "        \n",
    "    print(total)\n",
    "        \n",
    "calculate_arithmetic_sum()"
   ]
  },
  {
   "cell_type": "markdown",
   "metadata": {},
   "source": [
    "用for來試一下固定次數：\n",
    "\n",
    "寫一個程式，輸入一個整數，代表分數，先不考慮不合理數據，\n",
    "\n",
    "如果大於等於60分，則印出此分及格；\n",
    "否則，印出此數不及格。\n",
    "此程式可執行10次。\n",
    "\n",
    "輸入範例:\n",
    "78\n",
    "17\n",
    "100\n",
    "80\n",
    "90\n",
    "56\n",
    "78\n",
    "48\n",
    "90\n",
    "99\n",
    "\n",
    "輸出範例: \n",
    "78分及格\n",
    "17分不及格\n",
    "100分及格\n",
    "80分及格\n",
    "90分及格\n",
    "56分不及格\n",
    "78分及格\n",
    "48分不及格\n",
    "90分及格\n",
    "99分及格"
   ]
  },
  {
   "cell_type": "code",
   "execution_count": null,
   "metadata": {},
   "outputs": [],
   "source": [
    "'''\n",
    "18_8.for-10次判斷(10.0)\n",
    "'''\n",
    "def calculate_judgement():\n",
    "    for i in range(10):\n",
    "        score = int(input())\n",
    "        # 判斷\n",
    "        if score >= 60 :\n",
    "            print(f\"{score}分及格\")\n",
    "        \n",
    "        elif score < 60 :\n",
    "            print(f\"{score}分不及格\")\n",
    "            \n",
    "calculate_judgement()\n",
    "            "
   ]
  }
 ],
 "metadata": {
  "kernelspec": {
   "display_name": "Python 3",
   "language": "python",
   "name": "python3"
  },
  "language_info": {
   "codemirror_mode": {
    "name": "ipython",
    "version": 3
   },
   "file_extension": ".py",
   "mimetype": "text/x-python",
   "name": "python",
   "nbconvert_exporter": "python",
   "pygments_lexer": "ipython3",
   "version": "3.12.1"
  }
 },
 "nbformat": 4,
 "nbformat_minor": 2
}
